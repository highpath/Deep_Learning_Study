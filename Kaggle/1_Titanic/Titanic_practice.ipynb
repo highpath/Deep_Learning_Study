{
  "nbformat": 4,
  "nbformat_minor": 0,
  "metadata": {
    "colab": {
      "name": "Titanic_practice.ipynb",
      "provenance": [],
      "private_outputs": true,
      "collapsed_sections": [],
      "toc_visible": true,
      "authorship_tag": "ABX9TyPThzRCfnlAgMrUUKcw7vXe",
      "include_colab_link": true
    },
    "kernelspec": {
      "name": "python3",
      "display_name": "Python 3"
    }
  },
  "cells": [
    {
      "cell_type": "markdown",
      "metadata": {
        "id": "view-in-github",
        "colab_type": "text"
      },
      "source": [
        "<a href=\"https://colab.research.google.com/github/highpath/Deep_Learning_Study/blob/master/Kaggle/1_Titanic/Titanic_practice.ipynb\" target=\"_parent\"><img src=\"https://colab.research.google.com/assets/colab-badge.svg\" alt=\"Open In Colab\"/></a>"
      ]
    },
    {
      "cell_type": "markdown",
      "metadata": {
        "id": "p-eQVVCb8xzO",
        "colab_type": "text"
      },
      "source": [
        "# Titanic Practice\n",
        "\n",
        "Kaggle에서 가장 기본적인 대회라는 타이타닉 생존자 예측을 연습해보겠습니다."
      ]
    },
    {
      "cell_type": "markdown",
      "metadata": {
        "id": "8NSFBCHG80SP",
        "colab_type": "text"
      },
      "source": [
        "## Google Drive Mount\n",
        "\n",
        "구글 드라이브를 코랩에 연동시켜줍니다."
      ]
    },
    {
      "cell_type": "code",
      "metadata": {
        "id": "SGbQf8Da8Kuo",
        "colab_type": "code",
        "colab": {}
      },
      "source": [
        "from google.colab import drive\n",
        "drive.mount('/content/gdrive')"
      ],
      "execution_count": null,
      "outputs": []
    },
    {
      "cell_type": "markdown",
      "metadata": {
        "id": "Osy8kdYk83u_",
        "colab_type": "text"
      },
      "source": [
        "## Import Data\n",
        "구글드라이브에 업로드 되어 있는 데이터를 읽어옵니다."
      ]
    },
    {
      "cell_type": "code",
      "metadata": {
        "id": "8H-U5pEZ8Z5J",
        "colab_type": "code",
        "colab": {}
      },
      "source": [
        "import pandas as pd"
      ],
      "execution_count": null,
      "outputs": []
    },
    {
      "cell_type": "code",
      "metadata": {
        "id": "HtUmNsmS8pbZ",
        "colab_type": "code",
        "colab": {}
      },
      "source": [
        "train_data = pd.read_csv('/content/gdrive/My Drive/Colab Notebooks/Deep_Learning_study/Kaggle/1_Titanic/train.csv')\n",
        "test_data = pd.read_csv('/content/gdrive/My Drive/Colab Notebooks/Deep_Learning_study/Kaggle/1_Titanic/test.csv')"
      ],
      "execution_count": null,
      "outputs": []
    },
    {
      "cell_type": "code",
      "metadata": {
        "id": "iuMyTnItv_ni",
        "colab_type": "code",
        "colab": {}
      },
      "source": [
        "PassengerId = test_data[\"PassengerId\"]"
      ],
      "execution_count": null,
      "outputs": []
    },
    {
      "cell_type": "markdown",
      "metadata": {
        "id": "s2ZEE2n8-ERz",
        "colab_type": "text"
      },
      "source": [
        "## EDA(Exploratory Data Analysis)\n",
        "\n",
        "캐글 사이트에 데이터에 대한 설명이 있습니다.\n",
        "\n",
        "### Data Dictionary\n",
        "- Survival : Survival (0=No, 1=Yes)\n",
        "- Pclass : Ticket class (1=1st, 2=2nd, 3=3rd)\n",
        "- Sex : Sex\n",
        "- Age : Age in years\n",
        "- Sibsp : # of siblings / spouses aboard the Titanic\n",
        "- Parch : # of parents / childeren aboard the Titanic\n",
        "- Ticket : Ticket number\n",
        "- Fare : Passenger fare\n",
        "- Cabin : Cabin number\n",
        "- Embarked : Port of Embarkation (C=Cherbourg, Q=Queenstown, S=Southampton)"
      ]
    },
    {
      "cell_type": "code",
      "metadata": {
        "id": "PRpqyVLE9G38",
        "colab_type": "code",
        "colab": {}
      },
      "source": [
        "train_data.columns, test_data.columns"
      ],
      "execution_count": null,
      "outputs": []
    },
    {
      "cell_type": "markdown",
      "metadata": {
        "id": "jDbvGBxX_3Ne",
        "colab_type": "text"
      },
      "source": [
        "train_data와 test_data의 column 비교 결과 test_data에는 Survival이 없다는 것을 제외하고는 동일한 것을 알 수 있습니다. 저희는 train_data를 가지고 학습을 시킨 후 test_data의 정보를 보고 승객들의 생존 유무를 예측하겠습니다."
      ]
    },
    {
      "cell_type": "code",
      "metadata": {
        "id": "KIOtolfy9MGV",
        "colab_type": "code",
        "colab": {}
      },
      "source": [
        "train_data.info()"
      ],
      "execution_count": null,
      "outputs": []
    },
    {
      "cell_type": "code",
      "metadata": {
        "id": "a3_kfJaTEVy2",
        "colab_type": "code",
        "colab": {}
      },
      "source": [
        "test_data.info()"
      ],
      "execution_count": null,
      "outputs": []
    },
    {
      "cell_type": "code",
      "metadata": {
        "id": "eR5trh2K9OtC",
        "colab_type": "code",
        "colab": {}
      },
      "source": [
        "pd.set_option('display.max_columns', None)\n",
        "train_data.head()"
      ],
      "execution_count": null,
      "outputs": []
    },
    {
      "cell_type": "code",
      "metadata": {
        "id": "V_6SQCDCAY16",
        "colab_type": "code",
        "colab": {}
      },
      "source": [
        "test_data.head()"
      ],
      "execution_count": null,
      "outputs": []
    },
    {
      "cell_type": "markdown",
      "metadata": {
        "id": "TNPCn7PYBd0G",
        "colab_type": "text"
      },
      "source": [
        "PassengerId, Name, Ticket 값은 거의 승객 각각의 고유값입니다. 즉, 승객의 생존 유무와는 상관 없는 값이기 때문에 지워야합니다. 그전에"
      ]
    },
    {
      "cell_type": "code",
      "metadata": {
        "id": "bwwvXBAABCvg",
        "colab_type": "code",
        "colab": {}
      },
      "source": [
        "print(set(train_data[\"Name\"])&set(test_data[\"Name\"]))"
      ],
      "execution_count": null,
      "outputs": []
    },
    {
      "cell_type": "code",
      "metadata": {
        "id": "yf-N6icBCWDD",
        "colab_type": "code",
        "colab": {}
      },
      "source": [
        "train_data[train_data[\"Name\"]=='Kelly, Mr. James']"
      ],
      "execution_count": null,
      "outputs": []
    },
    {
      "cell_type": "code",
      "metadata": {
        "id": "RaXz1ncaCuzR",
        "colab_type": "code",
        "colab": {}
      },
      "source": [
        "test_data[test_data[\"Name\"]=='Kelly, Mr. James']"
      ],
      "execution_count": null,
      "outputs": []
    },
    {
      "cell_type": "markdown",
      "metadata": {
        "id": "WRPqFeqeC6Vf",
        "colab_type": "text"
      },
      "source": [
        "혹시나 이름이 같은 승객이 train_data와 test_data에 있나 해서 찾아봤더니 2명이 있었습니다. 그래서 확인해보니 이름 말고는 정보가 다 다른 동명이인이었습니다... 이제는 진짜 PassengerId, Ticket, Name column을 빼주겠습니다."
      ]
    },
    {
      "cell_type": "code",
      "metadata": {
        "id": "TqpvwLRrEFlr",
        "colab_type": "code",
        "colab": {}
      },
      "source": [
        "train_data.drop(['PassengerId','Ticket','Name'], inplace=True, axis='columns')\n",
        "test_data.drop(['PassengerId','Ticket','Name'], inplace=True, axis='columns')"
      ],
      "execution_count": null,
      "outputs": []
    },
    {
      "cell_type": "markdown",
      "metadata": {
        "id": "d1b-t0LIneRP",
        "colab_type": "text"
      },
      "source": [
        "## FE(Feature Engineering)\n"
      ]
    },
    {
      "cell_type": "code",
      "metadata": {
        "id": "9tqnVM6xPYi_",
        "colab_type": "code",
        "colab": {}
      },
      "source": [
        "train_data.info()"
      ],
      "execution_count": null,
      "outputs": []
    },
    {
      "cell_type": "code",
      "metadata": {
        "id": "BRpkkZcfQFEt",
        "colab_type": "code",
        "colab": {}
      },
      "source": [
        "test_data.info()"
      ],
      "execution_count": null,
      "outputs": []
    },
    {
      "cell_type": "code",
      "metadata": {
        "id": "HsGheAvMEA7S",
        "colab_type": "code",
        "colab": {}
      },
      "source": [
        "print(train_data[\"Survived\"][train_data[\"Cabin\"].isna()].mean())\n",
        "train_data[\"Survived\"][train_data[\"Cabin\"].notna()].mean()"
      ],
      "execution_count": null,
      "outputs": []
    },
    {
      "cell_type": "markdown",
      "metadata": {
        "id": "gS1MspdNhxJq",
        "colab_type": "text"
      },
      "source": [
        "Cabin의 유뮤에 따라 생존한 사람 수의 평균이 다른 것을 알 수 있습니다. 따라서 Cabin 데이터 전체를 버리지 않고 Cabin의 유무 값으로 바꾸어주겠습니다."
      ]
    },
    {
      "cell_type": "code",
      "metadata": {
        "id": "oaBS1zvnnxox",
        "colab_type": "code",
        "colab": {}
      },
      "source": [
        "train_iscabin = train_data[\"Cabin\"].isna().astype(int)\n",
        "test_iscabin = test_data[\"Cabin\"].isna().astype(int)\n",
        "\n",
        "train_data.drop([\"Cabin\"], inplace=True, axis=1)\n",
        "test_data.drop([\"Cabin\"], inplace=True, axis=1)\n",
        "\n",
        "train_data = train_data.join(train_iscabin)\n",
        "test_data = test_data.join(test_iscabin)\n",
        "\n",
        "train_data.rename(columns={'Cabin':'Cabin_OX'}, inplace=True)\n",
        "test_data.rename(columns={'Cabin':'Cabin_OX'}, inplace=True)"
      ],
      "execution_count": null,
      "outputs": []
    },
    {
      "cell_type": "markdown",
      "metadata": {
        "id": "7SMW6COAof_l",
        "colab_type": "text"
      },
      "source": [
        "## Split Data\n",
        "\n",
        "이제 대부분의 분석이 끝났으니 결과값인 Survived column과 나머지를 분리해주겠습니다."
      ]
    },
    {
      "cell_type": "code",
      "metadata": {
        "id": "iN2BxaGcodBt",
        "colab_type": "code",
        "colab": {}
      },
      "source": [
        "X_train = train_data.drop([\"Survived\"], axis=1)\n",
        "Y_train = train_data[\"Survived\"]\n",
        "X_test = test_data"
      ],
      "execution_count": null,
      "outputs": []
    },
    {
      "cell_type": "code",
      "metadata": {
        "id": "ZbtFxH5yuGb0",
        "colab_type": "code",
        "colab": {}
      },
      "source": [
        "X_train"
      ],
      "execution_count": null,
      "outputs": []
    },
    {
      "cell_type": "markdown",
      "metadata": {
        "id": "6hRl37BGPHBu",
        "colab_type": "text"
      },
      "source": [
        "## Null Value Management\n",
        "\n",
        "Null 값들을 처리해주겠습니다."
      ]
    },
    {
      "cell_type": "markdown",
      "metadata": {
        "id": "vZBmPZnaohxs",
        "colab_type": "text"
      },
      "source": [
        "위에서 봤듯이 적절하게 null값을 다른 값으로 채우기 위해선 데이터를 시각화하고 이해하는 능력이 있어야 합니다. 그래야 적절한 방법으로 다른 값을 채울 수 있기 때문입니다. 하지만 저는 그런 능력이 아직 없기에 가장 기본적인 SimpleImputer를 사용하였습니다.\n",
        "\n",
        "SimpleImputer는 Imputer중 가장 기초적인 방법입니다. Null 값들은 제공된 상수나 Null값이 존재하는 column에서의 통계적인 방법을 통해서 impute됩니다.\n",
        "\n",
        "impute하기 전에 column을 data type이 object인 것과 아닌 것으로 구분해주겠습니다. impute하는 과정에서 data type이 섞일 수 있기 때문에 따로 구분해서 해주어야 하기 때문입니다."
      ]
    },
    {
      "cell_type": "code",
      "metadata": {
        "id": "lRcrZKesnNum",
        "colab_type": "code",
        "colab": {}
      },
      "source": [
        "s = X_train.dtypes=='object'\n",
        "categorical_cols = list(s[s].index)\n",
        "\n",
        "d = X_train.dtypes!='object'\n",
        "numerical_cols = list(d[d].index)\n",
        "\n",
        "print(categorical_cols)\n",
        "print(numerical_cols)"
      ],
      "execution_count": null,
      "outputs": []
    },
    {
      "cell_type": "markdown",
      "metadata": {
        "id": "q2wASN5Cqw0_",
        "colab_type": "text"
      },
      "source": [
        "data type이 object인 column은 \"most_frequent\"방법으로 impute 해주고 나머지는 \"median\"방법으로 impute 해주겠습니다."
      ]
    },
    {
      "cell_type": "code",
      "metadata": {
        "id": "-5pB9k2lW5mk",
        "colab_type": "code",
        "colab": {}
      },
      "source": [
        "from sklearn.impute import SimpleImputer\n",
        "\n",
        "nm_imputer_n = SimpleImputer(strategy='median')\n",
        "numerical_X_train = pd.DataFrame(nm_imputer_n.fit_transform(X_train[numerical_cols]), columns = numerical_cols)\n",
        "numerical_X_test = pd.DataFrame(nm_imputer_n.transform(X_test[numerical_cols]), columns = numerical_cols)\n",
        "\n",
        "nm_imputer_c = SimpleImputer(strategy='most_frequent')\n",
        "categorical_X_train = pd.DataFrame(nm_imputer_c.fit_transform(X_train[categorical_cols]), columns = categorical_cols)\n",
        "categorical_X_test = pd.DataFrame(nm_imputer_c.transform(X_test[categorical_cols]), columns = categorical_cols)"
      ],
      "execution_count": null,
      "outputs": []
    },
    {
      "cell_type": "markdown",
      "metadata": {
        "id": "j3K1dwrXsvfg",
        "colab_type": "text"
      },
      "source": [
        "## One Hot Encoding\n",
        "\n",
        "데이터 형태가 object인 \"Sex\" column과 \"Embarked\" column을 one hot encoding 해주어야 합니다."
      ]
    },
    {
      "cell_type": "code",
      "metadata": {
        "id": "y2CEswGnr0ys",
        "colab_type": "code",
        "colab": {}
      },
      "source": [
        "from sklearn.preprocessing import OneHotEncoder\n",
        "\n",
        "OH_encoder = OneHotEncoder(sparse=False)\n",
        "categorical_X_train = pd.DataFrame(OH_encoder.fit_transform(categorical_X_train))\n",
        "categorical_X_test = pd.DataFrame(OH_encoder.transform(categorical_X_test))"
      ],
      "execution_count": null,
      "outputs": []
    },
    {
      "cell_type": "code",
      "metadata": {
        "id": "G2-85LIctfK7",
        "colab_type": "code",
        "colab": {}
      },
      "source": [
        "X_train = numerical_X_train.join(categorical_X_train)\n",
        "X_test = numerical_X_test.join(categorical_X_test)"
      ],
      "execution_count": null,
      "outputs": []
    },
    {
      "cell_type": "code",
      "metadata": {
        "id": "ilP19pzrtrtq",
        "colab_type": "code",
        "colab": {}
      },
      "source": [
        "X_train"
      ],
      "execution_count": null,
      "outputs": []
    },
    {
      "cell_type": "markdown",
      "metadata": {
        "id": "04tLWoxd3OmK",
        "colab_type": "text"
      },
      "source": [
        "## Train\n"
      ]
    },
    {
      "cell_type": "code",
      "metadata": {
        "id": "ir45fU803cYw",
        "colab_type": "code",
        "colab": {}
      },
      "source": [
        "from tensorflow import keras\n",
        "from keras import Sequential\n",
        "from keras.layers import Dropout, Dense"
      ],
      "execution_count": null,
      "outputs": []
    },
    {
      "cell_type": "code",
      "metadata": {
        "id": "xpR8JkLb3mxR",
        "colab_type": "code",
        "colab": {}
      },
      "source": [
        "model = Sequential()\n",
        "\n",
        "model.add(Dense(128, activation='relu', input_shape = (11,)))\n",
        "model.add(Dropout(0.5))\n",
        "model.add(Dense(128, activation='relu'))\n",
        "model.add(Dropout(0.5))\n",
        "model.add(Dense(16, activation='relu'))\n",
        "model.add(Dropout(0.5))\n",
        "model.add(Dense(1, activation='sigmoid'))\n",
        "\n",
        "model.summary()"
      ],
      "execution_count": null,
      "outputs": []
    },
    {
      "cell_type": "code",
      "metadata": {
        "id": "Fupt93nF4B5u",
        "colab_type": "code",
        "colab": {}
      },
      "source": [
        "model.compile(optimizer='adam',\n",
        "              loss=keras.losses.BinaryCrossentropy(),\n",
        "              metrics = [keras.metrics.AUC()])"
      ],
      "execution_count": null,
      "outputs": []
    },
    {
      "cell_type": "code",
      "metadata": {
        "id": "68pxNDc_4YfC",
        "colab_type": "code",
        "colab": {}
      },
      "source": [
        "history = model.fit(\n",
        "    X_train,\n",
        "    Y_train,\n",
        "    batch_size=4,\n",
        "    epochs=64\n",
        ")"
      ],
      "execution_count": null,
      "outputs": []
    },
    {
      "cell_type": "markdown",
      "metadata": {
        "id": "I1p8rm7-4iXR",
        "colab_type": "text"
      },
      "source": [
        "## Generate Predictions"
      ]
    },
    {
      "cell_type": "code",
      "metadata": {
        "id": "nU77zTevvTRg",
        "colab_type": "code",
        "colab": {}
      },
      "source": [
        "y_preds = model.predict_classes(X_test)"
      ],
      "execution_count": null,
      "outputs": []
    },
    {
      "cell_type": "code",
      "metadata": {
        "id": "9Ds2lZz4vWlk",
        "colab_type": "code",
        "colab": {}
      },
      "source": [
        "y_preds"
      ],
      "execution_count": null,
      "outputs": []
    },
    {
      "cell_type": "code",
      "metadata": {
        "id": "Q5OV5VLivX-B",
        "colab_type": "code",
        "colab": {}
      },
      "source": [
        "import os\n",
        "\n",
        "!cd \"/content/gdrive/My Drive/Colab Notebooks/Deep_Learning_study/Kaggle/1_Titanic\""
      ],
      "execution_count": null,
      "outputs": []
    },
    {
      "cell_type": "code",
      "metadata": {
        "id": "-3oCugljvZ9Y",
        "colab_type": "code",
        "colab": {}
      },
      "source": [
        "file_name = \"Titanic_practice.csv\"\n",
        "\n",
        "y_pred_series = pd.Series(y_preds.flatten(), name='Survived')\n",
        "\n",
        "file = pd.concat([PassengerId, y_pred_series], axis=1)\n",
        "\n",
        "file.to_csv(file_name, index=False)"
      ],
      "execution_count": null,
      "outputs": []
    }
  ]
}